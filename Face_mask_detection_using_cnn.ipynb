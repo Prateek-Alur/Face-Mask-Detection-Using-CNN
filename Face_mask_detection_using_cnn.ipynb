{
 "cells": [
  {
   "cell_type": "code",
   "execution_count": null,
   "id": "71958b59-d5c1-4ef1-8cc1-1c12970f0b33",
   "metadata": {},
   "outputs": [],
   "source": []
  },
  {
   "cell_type": "code",
   "execution_count": 65,
   "id": "c74ff7ed-79e6-46af-878f-9f222c642138",
   "metadata": {},
   "outputs": [],
   "source": [
    "import seaborn as sns\n",
    "import numpy as np\n",
    "import matplotlib.pyplot as plt\n",
    "import tensorflow as tf\n",
    "import keras \n",
    "import os\n",
    "import cv2"
   ]
  },
  {
   "cell_type": "code",
   "execution_count": 66,
   "id": "df06b37d-d728-44df-8276-052d1a2dcddb",
   "metadata": {},
   "outputs": [],
   "source": [
    "# path1 = r\"D:\\masknomask\"\n",
    "# cate = ['mask', 'nomask']"
   ]
  },
  {
   "cell_type": "code",
   "execution_count": 67,
   "id": "b03791c2-3e9a-4187-a67e-407de91fd1e7",
   "metadata": {},
   "outputs": [],
   "source": [
    "image_size = 200\n",
    "\n",
    "path1 = r\"D:\\Masknomasknew\"\n",
    "cate = ['withmask', 'withoutmask']\n",
    "\n",
    "input_image =[]\n",
    "for i in cate:\n",
    "    folders = os.path.join(path1, i)\n",
    "    label =cate.index(i)\n",
    "    #j=0\n",
    "    for image in os.listdir(folders):\n",
    "        image_path =os.path.join(folders, image)\n",
    "        image_array = cv2.imread(image_path)\n",
    "        #print(image_path)\n",
    "        #print(j)\n",
    "        #j=j+1\n",
    "        image_array = cv2.resize(image_array, (image_size, image_size))\n",
    "        input_image.append([image_array, label])"
   ]
  },
  {
   "cell_type": "code",
   "execution_count": 68,
   "id": "dfb24ef6-715a-446c-9ab9-28b060b91cef",
   "metadata": {},
   "outputs": [],
   "source": [
    "np.random.shuffle(input_image)"
   ]
  },
  {
   "cell_type": "code",
   "execution_count": 69,
   "id": "78ae3bf8-e93a-406c-9c9d-abd95d15a9f2",
   "metadata": {},
   "outputs": [],
   "source": [
    "X=[]\n",
    "Y=[]\n",
    "for X_values, labels in input_image:\n",
    "    X.append(X_values)\n",
    "    Y.append(labels)"
   ]
  },
  {
   "cell_type": "code",
   "execution_count": 70,
   "id": "3dc60708-956b-460a-a9a7-268dd0f7aff2",
   "metadata": {},
   "outputs": [],
   "source": [
    "# X =np.array(X)\n",
    "# Y =np.array(Y)"
   ]
  },
  {
   "cell_type": "code",
   "execution_count": 71,
   "id": "1126ff95-da2b-48e0-a1a6-bb31489ef82e",
   "metadata": {},
   "outputs": [],
   "source": [
    "x_train = X[0:3066]\n",
    "x_test = X[3066:3833]\n",
    "\n",
    "y_train = Y[0:3066]\n",
    "y_test = Y[3066:3833]\n",
    "\n",
    "x_train = np.array(x_train)\n",
    "x_test = np.array(x_test)\n",
    "\n",
    "y_train = np.array(y_train)\n",
    "y_test = np.array(y_test)"
   ]
  },
  {
   "cell_type": "code",
   "execution_count": 72,
   "id": "4b39bbe9-c41c-4333-8f07-8bf3c73d598d",
   "metadata": {},
   "outputs": [],
   "source": [
    " # X.shape"
   ]
  },
  {
   "cell_type": "code",
   "execution_count": 73,
   "id": "56eaf51c-f978-4d40-9dd4-e6446ccdf7d3",
   "metadata": {},
   "outputs": [
    {
     "data": {
      "text/plain": [
       "3066.4"
      ]
     },
     "execution_count": 73,
     "metadata": {},
     "output_type": "execute_result"
    }
   ],
   "source": [
    "3833*0.8"
   ]
  },
  {
   "cell_type": "code",
   "execution_count": 74,
   "id": "e3b43831-e92d-4e0e-a37e-acd41d0db217",
   "metadata": {},
   "outputs": [],
   "source": [
    "x_train=x_train/255\n",
    "x_test=x_test/255"
   ]
  },
  {
   "cell_type": "code",
   "execution_count": 75,
   "id": "bf4696fd-a14c-42e7-b014-74d2a5f26caa",
   "metadata": {},
   "outputs": [],
   "source": [
    "from tensorflow.keras.models import Sequential\n",
    "from tensorflow.keras.layers import Conv2D, MaxPool2D, Flatten, Dense, Dropout\n",
    "from tensorflow.keras.optimizers import Adam"
   ]
  },
  {
   "cell_type": "code",
   "execution_count": 76,
   "id": "7adeefc8-897e-48f8-bffc-360dce5896ac",
   "metadata": {},
   "outputs": [
    {
     "name": "stderr",
     "output_type": "stream",
     "text": [
      "C:\\Users\\alurp\\anaconda3\\envs\\new_env\\lib\\site-packages\\keras\\src\\layers\\convolutional\\base_conv.py:107: UserWarning: Do not pass an `input_shape`/`input_dim` argument to a layer. When using Sequential models, prefer using an `Input(shape)` object as the first layer in the model instead.\n",
      "  super().__init__(activity_regularizer=activity_regularizer, **kwargs)\n",
      "C:\\Users\\alurp\\anaconda3\\envs\\new_env\\lib\\site-packages\\keras\\src\\layers\\core\\dense.py:87: UserWarning: Do not pass an `input_shape`/`input_dim` argument to a layer. When using Sequential models, prefer using an `Input(shape)` object as the first layer in the model instead.\n",
      "  super().__init__(activity_regularizer=activity_regularizer, **kwargs)\n"
     ]
    }
   ],
   "source": [
    "model = Sequential()\n",
    "model.add(Conv2D(filters = 32, kernel_size = (3,3), activation = 'relu', padding = 'same', input_shape = (200,200,3)))\n",
    "model.add(MaxPool2D(pool_size=(2,2)))\n",
    "\n",
    "model.add(Conv2D(filters = 64, kernel_size = (3,3), activation = 'relu'))\n",
    "model.add(MaxPool2D(pool_size=(2,2)))\n",
    "\n",
    "model.add(Flatten())\n",
    "model.add(Dense(128 , activation='relu', input_shape = x_train.shape[1:]))\n",
    "model.add(Dropout(0.5))\n",
    "\n",
    "model.add(Dense(64 , activation='relu', input_shape = x_train.shape[1:]))\n",
    "model.add(Dropout(0.5))\n",
    "\n",
    "model.add(Dense(2, activation='softmax'))"
   ]
  },
  {
   "cell_type": "code",
   "execution_count": 77,
   "id": "6fda8bc8-fef7-4363-ac5b-c7968b82802f",
   "metadata": {},
   "outputs": [],
   "source": [
    "adam = tf.keras.optimizers.Adam()"
   ]
  },
  {
   "cell_type": "code",
   "execution_count": 78,
   "id": "04e358f9-701d-444d-aa4d-acf5048ed2cc",
   "metadata": {},
   "outputs": [],
   "source": [
    "model.compile(optimizer =adam, loss = 'sparse_categorical_crossentropy', metrics = ['accuracy'])"
   ]
  },
  {
   "cell_type": "code",
   "execution_count": 79,
   "id": "cbccb74f-3f50-4758-ad0b-e7f6916e3b41",
   "metadata": {},
   "outputs": [
    {
     "name": "stdout",
     "output_type": "stream",
     "text": [
      "Epoch 1/6\n",
      "\u001b[1m87/87\u001b[0m \u001b[32m━━━━━━━━━━━━━━━━━━━━\u001b[0m\u001b[37m\u001b[0m \u001b[1m34s\u001b[0m 346ms/step - accuracy: 0.7057 - loss: 1.0683 - val_accuracy: 0.9381 - val_loss: 0.1750\n",
      "Epoch 2/6\n",
      "\u001b[1m87/87\u001b[0m \u001b[32m━━━━━━━━━━━━━━━━━━━━\u001b[0m\u001b[37m\u001b[0m \u001b[1m28s\u001b[0m 323ms/step - accuracy: 0.9014 - loss: 0.2902 - val_accuracy: 0.9381 - val_loss: 0.1867\n",
      "Epoch 3/6\n",
      "\u001b[1m87/87\u001b[0m \u001b[32m━━━━━━━━━━━━━━━━━━━━\u001b[0m\u001b[37m\u001b[0m \u001b[1m28s\u001b[0m 319ms/step - accuracy: 0.9353 - loss: 0.1918 - val_accuracy: 0.9349 - val_loss: 0.1443\n",
      "Epoch 4/6\n",
      "\u001b[1m87/87\u001b[0m \u001b[32m━━━━━━━━━━━━━━━━━━━━\u001b[0m\u001b[37m\u001b[0m \u001b[1m28s\u001b[0m 322ms/step - accuracy: 0.9451 - loss: 0.1508 - val_accuracy: 0.9349 - val_loss: 0.2090\n",
      "Epoch 5/6\n",
      "\u001b[1m87/87\u001b[0m \u001b[32m━━━━━━━━━━━━━━━━━━━━\u001b[0m\u001b[37m\u001b[0m \u001b[1m28s\u001b[0m 321ms/step - accuracy: 0.9587 - loss: 0.1221 - val_accuracy: 0.9511 - val_loss: 0.1433\n",
      "Epoch 6/6\n",
      "\u001b[1m87/87\u001b[0m \u001b[32m━━━━━━━━━━━━━━━━━━━━\u001b[0m\u001b[37m\u001b[0m \u001b[1m29s\u001b[0m 327ms/step - accuracy: 0.9709 - loss: 0.0939 - val_accuracy: 0.9544 - val_loss: 0.1240\n"
     ]
    },
    {
     "data": {
      "text/plain": [
       "<keras.src.callbacks.history.History at 0x1fb851629e0>"
      ]
     },
     "execution_count": 79,
     "metadata": {},
     "output_type": "execute_result"
    }
   ],
   "source": [
    "model.fit(x_train, y_train, epochs=6, validation_split=0.1)"
   ]
  },
  {
   "cell_type": "code",
   "execution_count": 80,
   "id": "e90ec317-a31c-4381-8a41-ecb280283297",
   "metadata": {},
   "outputs": [
    {
     "name": "stdout",
     "output_type": "stream",
     "text": [
      "\u001b[1m24/24\u001b[0m \u001b[32m━━━━━━━━━━━━━━━━━━━━\u001b[0m\u001b[37m\u001b[0m \u001b[1m2s\u001b[0m 90ms/step\n",
      "Confusion Matrix:\n",
      "[[368  19]\n",
      " [ 14 366]]\n",
      "------------------------------------------------------\n",
      "Classification Report:\n",
      "              precision    recall  f1-score   support\n",
      "\n",
      "           0       0.96      0.95      0.96       387\n",
      "           1       0.95      0.96      0.96       380\n",
      "\n",
      "    accuracy                           0.96       767\n",
      "   macro avg       0.96      0.96      0.96       767\n",
      "weighted avg       0.96      0.96      0.96       767\n",
      "\n"
     ]
    }
   ],
   "source": [
    "pred = model.predict(x_test)\n",
    "pred_classes = pred.argmax(axis=1)\n",
    "\n",
    "from sklearn.metrics import confusion_matrix, classification_report\n",
    "tab = confusion_matrix(y_test, pred_classes)\n",
    "print('Confusion Matrix:')\n",
    "print(tab)\n",
    "print('------------------------------------------------------')\n",
    "print('Classification Report:')\n",
    "print(classification_report(y_test, pred_classes))"
   ]
  },
  {
   "cell_type": "code",
   "execution_count": null,
   "id": "46f6329f-3ab1-4cf5-bdc1-6e483aa106af",
   "metadata": {},
   "outputs": [],
   "source": []
  },
  {
   "cell_type": "code",
   "execution_count": null,
   "id": "515550c6-8c44-421e-b232-f9185a2009ab",
   "metadata": {},
   "outputs": [],
   "source": []
  },
  {
   "cell_type": "code",
   "execution_count": null,
   "id": "cb70b6f1-bb31-4380-ad96-374a2e7d9353",
   "metadata": {},
   "outputs": [],
   "source": []
  }
 ],
 "metadata": {
  "kernelspec": {
   "display_name": "Python 3 (ipykernel)",
   "language": "python",
   "name": "python3"
  },
  "language_info": {
   "codemirror_mode": {
    "name": "ipython",
    "version": 3
   },
   "file_extension": ".py",
   "mimetype": "text/x-python",
   "name": "python",
   "nbconvert_exporter": "python",
   "pygments_lexer": "ipython3",
   "version": "3.10.15"
  }
 },
 "nbformat": 4,
 "nbformat_minor": 5
}
